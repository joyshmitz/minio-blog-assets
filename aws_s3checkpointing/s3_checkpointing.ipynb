{
 "cells": [
  {
   "cell_type": "code",
   "execution_count": 1,
   "metadata": {},
   "outputs": [],
   "source": [
    "import os\n",
    "\n",
    "from dotenv import load_dotenv\n",
    "from s3torchconnector import S3Checkpoint\n",
    "import torchvision\n",
    "import torch\n",
    "\n",
    "# Load the credentials and connection information.\n",
    "load_dotenv()\n",
    "\n",
    "model = torchvision.models.resnet18()\n",
    "model_name = 'resnet18.pth'\n",
    "bucket_name = 'checkpoints'\n",
    "\n",
    "checkpoint_uri = f's3://{bucket_name}/{model_name}'\n",
    "s3_checkpoint = S3Checkpoint(os.environ['AWS_REGION'])\n",
    "\n",
    "# Save checkpoint to S3\n",
    "with s3_checkpoint.writer(checkpoint_uri) as writer:\n",
    "    torch.save(model.state_dict(), writer)\n"
   ]
  },
  {
   "cell_type": "code",
   "execution_count": 2,
   "metadata": {},
   "outputs": [
    {
     "data": {
      "text/plain": [
       "<All keys matched successfully>"
      ]
     },
     "execution_count": 2,
     "metadata": {},
     "output_type": "execute_result"
    }
   ],
   "source": [
    "import os\n",
    "\n",
    "from dotenv import load_dotenv\n",
    "from s3torchconnector import S3Checkpoint\n",
    "import torchvision\n",
    "import torch\n",
    "\n",
    "# Load the credentials and connection information.\n",
    "load_dotenv()\n",
    "\n",
    "model_name = 'resnet18.pth'\n",
    "bucket_name = 'checkpoints'\n",
    "\n",
    "checkpoint_uri = f's3://{bucket_name}/{model_name}'\n",
    "s3_checkpoint = S3Checkpoint(os.environ['AWS_REGION'])\n",
    "\n",
    "# Load checkpoint from S3\n",
    "with s3_checkpoint.reader(checkpoint_uri) as reader:\n",
    "    state_dict = torch.load(reader, weights_only=True)\n",
    "\n",
    "model.load_state_dict(state_dict)"
   ]
  }
 ],
 "metadata": {
  "kernelspec": {
   "display_name": ".venv",
   "language": "python",
   "name": "python3"
  },
  "language_info": {
   "codemirror_mode": {
    "name": "ipython",
    "version": 3
   },
   "file_extension": ".py",
   "mimetype": "text/x-python",
   "name": "python",
   "nbconvert_exporter": "python",
   "pygments_lexer": "ipython3",
   "version": "3.9.13"
  }
 },
 "nbformat": 4,
 "nbformat_minor": 2
}
