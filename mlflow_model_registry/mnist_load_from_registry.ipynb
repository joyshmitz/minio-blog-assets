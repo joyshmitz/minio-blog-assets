{
 "cells": [
  {
   "cell_type": "code",
   "execution_count": 1,
   "metadata": {},
   "outputs": [],
   "source": [
    "from typing import List, Dict, Any, Tuple\n",
    "\n",
    "import mlflow\n",
    "import mlflow.pyfunc\n",
    "import numpy as np\n",
    "import torch\n",
    "from torch.utils.data.dataloader import DataLoader\n",
    "from torchvision import datasets, transforms"
   ]
  },
  {
   "cell_type": "code",
   "execution_count": 2,
   "metadata": {},
   "outputs": [
    {
     "name": "stderr",
     "output_type": "stream",
     "text": [
      "/Users/keithpij/Documents/code/blog-assets/.venv/lib/python3.10/site-packages/tqdm/auto.py:21: TqdmWarning: IProgress not found. Please update jupyter and ipywidgets. See https://ipywidgets.readthedocs.io/en/stable/user_install.html\n",
      "  from .autonotebook import tqdm as notebook_tqdm\n",
      "Downloading artifacts: 100%|██████████| 6/6 [00:00<00:00, 20.09it/s]  \n"
     ]
    },
    {
     "data": {
      "text/plain": [
       "mlflow.pyfunc.PyFuncModel"
      ]
     },
     "execution_count": 2,
     "metadata": {},
     "output_type": "execute_result"
    }
   ],
   "source": [
    "\n",
    "model_name = 'mnist_lr_optimized'\n",
    "model_version = 3\n",
    "\n",
    "mlflow.set_tracking_uri('http://localhost:5001/')\n",
    "model = mlflow.pyfunc.load_model(model_uri=f\"models:/{model_name}/{model_version}\")\n",
    "type(model)\n",
    "#model.predict(data)"
   ]
  },
  {
   "cell_type": "code",
   "execution_count": 3,
   "metadata": {},
   "outputs": [],
   "source": [
    "def load_test_images(batch_size: int) -> Tuple[Any]:\n",
    "    # Define a transform to normalize the data\n",
    "    transform = transforms.Compose([transforms.ToTensor(),\n",
    "                                transforms.Normalize((0.5,), (0.5,))])\n",
    "\n",
    "    # Download and load the testing data\n",
    "    test_dataset = datasets.MNIST('./mnistdata', download=True, train=False, transform=transform)\n",
    "    test_loader = DataLoader(test_dataset, batch_size=batch_size, shuffle=True)\n",
    "    return test_loader"
   ]
  },
  {
   "cell_type": "code",
   "execution_count": 4,
   "metadata": {},
   "outputs": [],
   "source": [
    "def test_model(model: mlflow.pyfunc.PyFuncModel, loader: DataLoader) -> Dict[str, Any]:\n",
    "    correct_count, total_count = 0, 0\n",
    "    for images, labels in loader:\n",
    "        for i in range(len(labels)):\n",
    "            img = images[i].view(1, 784)\n",
    "            # Turn off gradients to speed up this part\n",
    "            with torch.no_grad():\n",
    "                logps = model.predict(img.numpy())\n",
    "\n",
    "            # Output of the network are log-probabilities, need to take exponential for probabilities\n",
    "            ps = np.exp(logps)\n",
    "            probab = list(ps[0])\n",
    "            pred_label = probab.index(max(probab))\n",
    "            true_label = labels.numpy()[i]\n",
    "            if(true_label == pred_label):\n",
    "                correct_count += 1\n",
    "            total_count += 1\n",
    "    \n",
    "    testing_metrics = {\n",
    "        'incorrect_count': total_count-correct_count,\n",
    "        'correct_count': correct_count,\n",
    "        'accuracy': (correct_count/total_count)\n",
    "    }\n",
    "    print(\"Number Of Images Tested =\", total_count)\n",
    "    print(\"\\nModel Accuracy =\", (correct_count/total_count))\n",
    "    return testing_metrics"
   ]
  },
  {
   "cell_type": "code",
   "execution_count": 5,
   "metadata": {},
   "outputs": [
    {
     "name": "stdout",
     "output_type": "stream",
     "text": [
      "Number Of Images Tested = 10000\n",
      "\n",
      "Model Accuracy = 0.9795\n"
     ]
    },
    {
     "data": {
      "text/plain": [
       "{'incorrect_count': 205, 'correct_count': 9795, 'accuracy': 0.9795}"
      ]
     },
     "execution_count": 5,
     "metadata": {},
     "output_type": "execute_result"
    }
   ],
   "source": [
    "test_loader = load_test_images(64)\n",
    "testing_metrics = test_model(model, test_loader)\n",
    "testing_metrics"
   ]
  }
 ],
 "metadata": {
  "kernelspec": {
   "display_name": ".venv",
   "language": "python",
   "name": "python3"
  },
  "language_info": {
   "codemirror_mode": {
    "name": "ipython",
    "version": 3
   },
   "file_extension": ".py",
   "mimetype": "text/x-python",
   "name": "python",
   "nbconvert_exporter": "python",
   "pygments_lexer": "ipython3",
   "version": "3.10.13"
  },
  "orig_nbformat": 4
 },
 "nbformat": 4,
 "nbformat_minor": 2
}
