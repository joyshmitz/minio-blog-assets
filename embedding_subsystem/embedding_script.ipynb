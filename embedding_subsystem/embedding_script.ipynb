{
 "cells": [
  {
   "cell_type": "code",
   "execution_count": 1,
   "metadata": {},
   "outputs": [],
   "source": [
    "import os\n",
    "import tempfile\n",
    "from time import time\n",
    "from typing import Any, Dict, List, Tuple\n",
    "\n",
    "from dotenv import load_dotenv\n",
    "from huggingface_hub import snapshot_download\n",
    "from langchain.text_splitter import RecursiveCharacterTextSplitter\n",
    "from sentence_transformers import SentenceTransformer\n",
    "import torch\n",
    "\n",
    "import embedding_utils as eu"
   ]
  },
  {
   "cell_type": "markdown",
   "metadata": {},
   "source": [
    "##### Parameters and environment variables"
   ]
  },
  {
   "cell_type": "code",
   "execution_count": 2,
   "metadata": {},
   "outputs": [],
   "source": [
    "load_dotenv('minio.env')\n",
    "MINIO_URL = os.environ['MINIO_URL']\n",
    "MINIO_ACCESS_KEY = os.environ['MINIO_ACCESS_KEY']\n",
    "MINIO_SECRET_KEY = os.environ['MINIO_SECRET_KEY']\n",
    "if os.environ['MINIO_SECURE']=='true': MINIO_SECURE = True \n",
    "else: MINIO_SECURE = False \n",
    "PGVECTOR_HOST = os.environ['PGVECTOR_HOST']\n",
    "PGVECTOR_DATABASE = os.environ['PGVECTOR_DATABASE']\n",
    "PGVECTOR_USER = os.environ['PGVECTOR_USER']\n",
    "PGVECTOR_PASSWORD = os.environ['PGVECTOR_PASSWORD']\n",
    "PGVECTOR_PORT = os.environ['PGVECTOR_PORT']\n",
    "\n",
    "MODELS_BUCKET = 'hf-models'\n",
    "EMBEDDING_MODEL = 'intfloat/multilingual-e5-small' # Embedding model to use for converting text chunks to vector embeddings.\n",
    "EMBEDDING_MODEL_REVISION = 'ffdcc22a9a5c973ef0470385cef91e1ecb461d9f'\n",
    "\n",
    "BATCH_SIZE = 1  #100\n",
    "CHUNK_SIZE = 1000                   # Text chunk sizes which will be converted to vector embeddings\n",
    "CHUNK_OVERLAP = 10\n",
    "DIMENSION = 384                     # Embeddings size\n",
    "BUCKET_NAME = 'custom-corpus'         # Bucket name for batch creation of embeddings."
   ]
  },
  {
   "cell_type": "markdown",
   "metadata": {},
   "source": [
    "##### The systems temp directory"
   ]
  },
  {
   "cell_type": "code",
   "execution_count": 3,
   "metadata": {},
   "outputs": [
    {
     "data": {
      "text/plain": [
       "'/var/folders/_5/jt7lb09d49n9qscq4l2m3sph0000gn/T'"
      ]
     },
     "execution_count": 3,
     "metadata": {},
     "output_type": "execute_result"
    }
   ],
   "source": [
    "tempfile.gettempdir()"
   ]
  },
  {
   "cell_type": "markdown",
   "metadata": {},
   "source": [
    "##### Download the model from Hugging Face and upload it to MinIO"
   ]
  },
  {
   "cell_type": "code",
   "execution_count": 4,
   "metadata": {},
   "outputs": [
    {
     "name": "stdout",
     "output_type": "stream",
     "text": [
      "Starting download from HF to /var/folders/_5/jt7lb09d49n9qscq4l2m3sph0000gn/T/hf-models/models--intfloat--multilingual-e5-small/snapshots/ffdcc22a9a5c973ef0470385cef91e1ecb461d9f.\n"
     ]
    },
    {
     "data": {
      "application/vnd.jupyter.widget-view+json": {
       "model_id": "55cbf08e3d1b4ccabf8e92a42ab5cdf8",
       "version_major": 2,
       "version_minor": 0
      },
      "text/plain": [
       "Fetching 18 files:   0%|          | 0/18 [00:00<?, ?it/s]"
      ]
     },
     "metadata": {},
     "output_type": "display_data"
    },
    {
     "name": "stdout",
     "output_type": "stream",
     "text": [
      "Uploading to MinIO.\n"
     ]
    }
   ],
   "source": [
    "eu.upload_model_to_minio(MODELS_BUCKET, EMBEDDING_MODEL, EMBEDDING_MODEL_REVISION)"
   ]
  },
  {
   "cell_type": "markdown",
   "metadata": {},
   "source": [
    "##### Download the model from MinIO"
   ]
  },
  {
   "cell_type": "code",
   "execution_count": 5,
   "metadata": {},
   "outputs": [
    {
     "name": "stdout",
     "output_type": "stream",
     "text": [
      "/var/folders/_5/jt7lb09d49n9qscq4l2m3sph0000gn/T/hf-models/models--intfloat--multilingual-e5-small/snapshots/ffdcc22a9a5c973ef0470385cef91e1ecb461d9f\n"
     ]
    }
   ],
   "source": [
    "model_path = eu.download_model_from_minio(MODELS_BUCKET, EMBEDDING_MODEL, EMBEDDING_MODEL_REVISION)"
   ]
  },
  {
   "cell_type": "markdown",
   "metadata": {},
   "source": [
    "##### Simple script to create embeddings from a document in MinIO"
   ]
  },
  {
   "cell_type": "code",
   "execution_count": 6,
   "metadata": {},
   "outputs": [
    {
     "name": "stdout",
     "output_type": "stream",
     "text": [
      "Number of chunks: 213\n",
      "Length of the first chunk: 993\n",
      "Number of embeddings: 213\n",
      "Length of the first embedding: 384\n"
     ]
    }
   ],
   "source": [
    "device = torch.device(\"cuda\" if torch.cuda.is_available() else \"cpu\")\n",
    "embedding_model = SentenceTransformer(model_path, device=device)\n",
    "chunker = RecursiveCharacterTextSplitter(chunk_size=CHUNK_SIZE, chunk_overlap=CHUNK_OVERLAP, length_function=len)\n",
    "\n",
    "#chunks = ['Hello world','This is a test']\n",
    "temp_file = eu.get_document_from_minio(BUCKET_NAME, 'The Strange Case of Dr Jekyll and Mr Hyde.txt')\n",
    "file = open(temp_file, 'r')\n",
    "data = file.read()\n",
    "chunks = chunker.split_text(data)\n",
    "print('Number of chunks:', len(chunks))\n",
    "print('Length of the first chunk:', len(chunks[0]))\n",
    "#print(chunks[0])\n",
    "\n",
    "embeddings = embedding_model.encode(chunks, batch_size=BATCH_SIZE).tolist()\n",
    "print('Number of embeddings:', len(embeddings))\n",
    "print('Length of the first embedding:', len(embeddings[0]))"
   ]
  },
  {
   "cell_type": "markdown",
   "metadata": {},
   "source": [
    "##### Save the embeddings to the vector database"
   ]
  },
  {
   "cell_type": "code",
   "execution_count": 7,
   "metadata": {},
   "outputs": [],
   "source": [
    "eu.save_embeddings_to_vectordb(chunks, embeddings)"
   ]
  }
 ],
 "metadata": {
  "kernelspec": {
   "display_name": ".venv",
   "language": "python",
   "name": "python3"
  },
  "language_info": {
   "codemirror_mode": {
    "name": "ipython",
    "version": 3
   },
   "file_extension": ".py",
   "mimetype": "text/x-python",
   "name": "python",
   "nbconvert_exporter": "python",
   "pygments_lexer": "ipython3",
   "version": "3.9.13"
  }
 },
 "nbformat": 4,
 "nbformat_minor": 2
}
