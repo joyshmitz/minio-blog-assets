{
 "cells": [
  {
   "cell_type": "markdown",
   "id": "f65275c6-81a8-4156-8bf0-23525cf3750a",
   "metadata": {},
   "source": [
    "### Setup Environment"
   ]
  },
  {
   "cell_type": "code",
   "execution_count": 1,
   "id": "2670219e-67a0-409a-aab3-18e1828aa2ff",
   "metadata": {},
   "outputs": [],
   "source": [
    "import os\n",
    "#os.environ[\"S3_ENDPOINT_URL\"]=\"minio:9000\"\n",
    "#os.environ[\"AWS_ACCESS_KEY_ID\"]=\"lwycuW6S5f7yJZt65tRK\"\n",
    "#os.environ[\"AWS_SECRET_ACCESS_KEY\"]=\"d6hXquiXGpbmfR8OdX7Byd716hmhN87xTyCX8S0K\"\n",
    "os.environ[\"MLRUN_DBPATH\"]=\"http://mlrun-api:8080\"\n",
    "import mlrun"
   ]
  },
  {
   "cell_type": "code",
   "execution_count": 2,
   "id": "ce7c5fc8-6d8f-4976-875f-8bc74578ed5c",
   "metadata": {},
   "outputs": [
    {
     "data": {
      "text/plain": [
       "('default', '/home/jovyan/mnist-demo/artifacts')"
      ]
     },
     "execution_count": 2,
     "metadata": {},
     "output_type": "execute_result"
    }
   ],
   "source": [
    "# Set the environment:\n",
    "project_name='mnist-training'\n",
    "\n",
    "#mlrun.set_environment(env_file='mlrun.env', artifact_path=f's3://mlrun/projects/{project_name}/artifacts')\n",
    "#mlrun.set_environment('http://mlrun-api:8080', env_file='mlrun.env', artifact_path='s3://mlrun')\n",
    "mlrun.set_environment('http://mlrun-api:8080', artifact_path='./artifacts')"
   ]
  },
  {
   "cell_type": "markdown",
   "id": "ca628769-8f9e-434b-bfba-5805e7a5f145",
   "metadata": {},
   "source": [
    "### Create Project"
   ]
  },
  {
   "cell_type": "code",
   "execution_count": 3,
   "id": "f71439e4-4a13-46ed-b5f0-4e626a2288d8",
   "metadata": {},
   "outputs": [
    {
     "name": "stdout",
     "output_type": "stream",
     "text": [
      "> 2024-05-14 19:24:44,997 [debug] Project not found in db: {'project_name': 'mnist-training'}\n",
      "> 2024-05-14 19:24:45,188 [info] Created and saved project: {'name': 'mnist-training', 'from_template': None, 'overwrite': False, 'context': '/home/jovyan/mnist-demo', 'save': True}\n",
      "> 2024-05-14 19:24:45,189 [info] Project created successfully: {'project_name': 'mnist-training', 'stored_in_db': True}\n",
      "/home/jovyan/mnist-demo\n"
     ]
    }
   ],
   "source": [
    "# Create the project:\n",
    "project_dir = os.path.abspath('./')\n",
    "project = mlrun.get_or_create_project(project_name, project_dir, user_project=False)\n",
    "print(project_dir)"
   ]
  },
  {
   "cell_type": "markdown",
   "id": "e50ce737-3e7c-42f5-9ad0-f8938d6d7286",
   "metadata": {},
   "source": [
    "### Create Training Function"
   ]
  },
  {
   "cell_type": "code",
   "execution_count": 4,
   "id": "61a209bc-68cf-4947-acec-e061904fca45",
   "metadata": {},
   "outputs": [
    {
     "name": "stdout",
     "output_type": "stream",
     "text": [
      "<class 'mlrun.runtimes.kubejob.KubejobRuntime'>\n"
     ]
    }
   ],
   "source": [
    "# Create the training function.\n",
    "trainer = project.set_function(\n",
    "    \"mnist_training_with_mlrun.py\", name=\"trainer\", kind=\"job\", \n",
    "    image=\"mlrun/mlrun\", \n",
    "    requirements=[\"minio\", \"torch\", \"torchvision\"],\n",
    "    handler=\"train_model\"\n",
    ")\n",
    "print(type(trainer))"
   ]
  },
  {
   "cell_type": "markdown",
   "id": "dedef915-4176-43e6-9fab-c1ee9059d3b7",
   "metadata": {},
   "source": [
    "### Run the function"
   ]
  },
  {
   "cell_type": "code",
   "execution_count": 5,
   "id": "6054a931-1e54-47fe-8dbe-fa0ebaa85fe0",
   "metadata": {},
   "outputs": [],
   "source": [
    "# Sample hyperparameters\n",
    "training_parameters = {\n",
    "    'batch_size': 32,\n",
    "    'device': 'cpu',\n",
    "    'dropout_input': 0.2,\n",
    "    'dropout_hidden': 0.5,\n",
    "    'epochs': 2,\n",
    "    'input_size': 784,\n",
    "    'hidden_sizes': [1024, 1024, 1024, 1024],\n",
    "    'lr': 0.025,\n",
    "    'momentum': 0.5,\n",
    "    'output_size': 10,\n",
    "    'smoke_test_size': -1\n",
    "    }"
   ]
  },
  {
   "cell_type": "code",
   "execution_count": null,
   "id": "9ffc9146-bc8b-4558-a5ab-f47c39677d59",
   "metadata": {},
   "outputs": [
    {
     "name": "stdout",
     "output_type": "stream",
     "text": [
      "> 2024-05-14 19:24:45,218 [debug] Auto mount disabled due to user selection (auto_mount_type=none)\n",
      "> 2024-05-14 19:24:45,220 [debug] Auto mount disabled due to user selection (auto_mount_type=none)\n",
      "> 2024-05-14 19:24:45,230 [info] Storing function: {'name': 'trainer-train-model', 'uid': 'b76ed4aeb74a44d49d8e55edef8f6bbf', 'db': 'http://mlrun-api:8080'}\n",
      "> 2024-05-14 19:24:45,281 [debug] Starting local run: /home/jovyan/mnist-demo/mnist_training_with_mlrun.py # train_model\n",
      "> 2024-05-14 19:24:47,883 [debug] The packagers manager collected the packager: BoolPackager(packable_type=bool, artifact_types=['object', 'result'], priority=5)\n",
      "> 2024-05-14 19:24:47,884 [debug] The packagers manager collected the packager: BytearrayPackager(packable_type=bytearray, artifact_types=['file', 'object', 'result'], priority=5)\n",
      "> 2024-05-14 19:24:47,885 [debug] The packagers manager collected the packager: BytesPackager(packable_type=bytes, artifact_types=['file', 'object', 'result'], priority=5)\n",
      "> 2024-05-14 19:24:47,885 [debug] The packagers manager collected the packager: DictPackager(packable_type=dict, artifact_types=['file', 'object', 'result'], priority=5)\n",
      "> 2024-05-14 19:24:47,886 [debug] The packagers manager collected the packager: FloatPackager(packable_type=float, artifact_types=['object', 'result'], priority=5)\n",
      "> 2024-05-14 19:24:47,887 [debug] The packagers manager collected the packager: FrozensetPackager(packable_type=frozenset, artifact_types=['file', 'object', 'result'], priority=5)\n",
      "> 2024-05-14 19:24:47,888 [debug] The packagers manager collected the packager: IntPackager(packable_type=int, artifact_types=['object', 'result'], priority=5)\n",
      "> 2024-05-14 19:24:47,888 [debug] The packagers manager collected the packager: ListPackager(packable_type=list, artifact_types=['file', 'object', 'result'], priority=5)\n",
      "> 2024-05-14 19:24:47,889 [debug] The packagers manager collected the packager: NonePackager(packable_type=NoneType, artifact_types=['result'], priority=5)\n",
      "> 2024-05-14 19:24:47,889 [debug] The packagers manager collected the packager: PathPackager(packable_type=Path, artifact_types=['object', 'path', 'result'], priority=5)\n",
      "> 2024-05-14 19:24:47,890 [debug] The packagers manager collected the packager: SetPackager(packable_type=set, artifact_types=['file', 'object', 'result'], priority=5)\n",
      "> 2024-05-14 19:24:47,890 [debug] The packagers manager collected the packager: StrPackager(packable_type=str, artifact_types=['object', 'path', 'result'], priority=5)\n",
      "> 2024-05-14 19:24:47,891 [debug] The packagers manager collected the packager: TuplePackager(packable_type=tuple, artifact_types=['file', 'object', 'result'], priority=5)\n",
      "> 2024-05-14 19:24:47,893 [debug] The packagers manager collected the packager: PandasDataFramePackager(packable_type=DataFrame, artifact_types=['dataset', 'file', 'object', 'result'], priority=5)\n",
      "> 2024-05-14 19:24:47,894 [debug] The packagers manager collected the packager: PandasSeriesPackager(packable_type=Series, artifact_types=['file', 'object', 'result'], priority=5)\n",
      "> 2024-05-14 19:24:47,894 [debug] The packagers manager collected the packager: NumPyNDArrayDictPackager(packable_type=typing.Dict[str, numpy.ndarray], artifact_types=['file', 'object', 'result'], priority=5)\n",
      "> 2024-05-14 19:24:47,895 [debug] The packagers manager collected the packager: NumPyNDArrayListPackager(packable_type=typing.List[numpy.ndarray], artifact_types=['file', 'object', 'result'], priority=5)\n",
      "> 2024-05-14 19:24:47,896 [debug] The packagers manager collected the packager: NumPyNDArrayPackager(packable_type=ndarray, artifact_types=['dataset', 'file', 'object', 'result'], priority=5)\n",
      "> 2024-05-14 19:24:47,896 [debug] The packagers manager collected the packager: NumPyNumberPackager(packable_type=number, artifact_types=['object', 'result'], priority=5)\n",
      "> 2024-05-14 19:24:47,906 [debug] The packagers manager collected the packager: BoolPackager(packable_type=bool, artifact_types=['object', 'result'], priority=5)\n",
      "> 2024-05-14 19:24:47,906 [debug] The packagers manager collected the packager: BytearrayPackager(packable_type=bytearray, artifact_types=['file', 'object', 'result'], priority=5)\n",
      "> 2024-05-14 19:24:47,907 [debug] The packagers manager collected the packager: BytesPackager(packable_type=bytes, artifact_types=['file', 'object', 'result'], priority=5)\n",
      "> 2024-05-14 19:24:47,907 [debug] The packagers manager collected the packager: DictPackager(packable_type=dict, artifact_types=['file', 'object', 'result'], priority=5)\n",
      "> 2024-05-14 19:24:47,908 [debug] The packagers manager collected the packager: FloatPackager(packable_type=float, artifact_types=['object', 'result'], priority=5)\n",
      "> 2024-05-14 19:24:47,908 [debug] The packagers manager collected the packager: FrozensetPackager(packable_type=frozenset, artifact_types=['file', 'object', 'result'], priority=5)\n",
      "> 2024-05-14 19:24:47,908 [debug] The packagers manager collected the packager: IntPackager(packable_type=int, artifact_types=['object', 'result'], priority=5)\n",
      "> 2024-05-14 19:24:47,909 [debug] The packagers manager collected the packager: ListPackager(packable_type=list, artifact_types=['file', 'object', 'result'], priority=5)\n",
      "> 2024-05-14 19:24:47,909 [debug] The packagers manager collected the packager: NonePackager(packable_type=NoneType, artifact_types=['result'], priority=5)\n",
      "> 2024-05-14 19:24:47,910 [debug] The packagers manager collected the packager: PathPackager(packable_type=Path, artifact_types=['object', 'path', 'result'], priority=5)\n",
      "> 2024-05-14 19:24:47,910 [debug] The packagers manager collected the packager: SetPackager(packable_type=set, artifact_types=['file', 'object', 'result'], priority=5)\n",
      "> 2024-05-14 19:24:47,911 [debug] The packagers manager collected the packager: StrPackager(packable_type=str, artifact_types=['object', 'path', 'result'], priority=5)\n",
      "> 2024-05-14 19:24:47,911 [debug] The packagers manager collected the packager: TuplePackager(packable_type=tuple, artifact_types=['file', 'object', 'result'], priority=5)\n",
      "> 2024-05-14 19:24:47,912 [debug] The packagers manager collected the packager: PandasDataFramePackager(packable_type=DataFrame, artifact_types=['dataset', 'file', 'object', 'result'], priority=5)\n",
      "> 2024-05-14 19:24:47,912 [debug] The packagers manager collected the packager: PandasSeriesPackager(packable_type=Series, artifact_types=['file', 'object', 'result'], priority=5)\n",
      "> 2024-05-14 19:24:47,912 [debug] The packagers manager collected the packager: NumPyNDArrayDictPackager(packable_type=typing.Dict[str, numpy.ndarray], artifact_types=['file', 'object', 'result'], priority=5)\n",
      "> 2024-05-14 19:24:47,913 [debug] The packagers manager collected the packager: NumPyNDArrayListPackager(packable_type=typing.List[numpy.ndarray], artifact_types=['file', 'object', 'result'], priority=5)\n",
      "> 2024-05-14 19:24:47,913 [debug] The packagers manager collected the packager: NumPyNDArrayPackager(packable_type=ndarray, artifact_types=['dataset', 'file', 'object', 'result'], priority=5)\n",
      "> 2024-05-14 19:24:47,915 [debug] The packagers manager collected the packager: NumPyNumberPackager(packable_type=number, artifact_types=['object', 'result'], priority=5)\n",
      "1487 2024-05-14 19:24:47,915 | INFO | memory\n",
      "1487 2024-05-14 19:24:47,916 | INFO | mnist\n",
      "1487 2024-05-14 19:24:47,916 | INFO | {'batch_size': 32, 'device': 'cpu', 'dropout_input': 0.2, 'dropout_hidden': 0.5, 'epochs': 2, 'input_size': 784, 'hidden_sizes': [1024, 1024, 1024, 1024], 'lr': 0.025, 'momentum': 0.5, 'output_size': 10, 'smoke_test_size': -1}\n",
      "Downloading http://yann.lecun.com/exdb/mnist/train-images-idx3-ubyte.gz\n",
      "Failed to download (trying next):\n",
      "HTTP Error 403: Forbidden\n",
      "\n",
      "Downloading https://ossci-datasets.s3.amazonaws.com/mnist/train-images-idx3-ubyte.gz\n",
      "Downloading https://ossci-datasets.s3.amazonaws.com/mnist/train-images-idx3-ubyte.gz to ./mnistdata/MNIST/raw/train-images-idx3-ubyte.gz\n"
     ]
    },
    {
     "name": "stderr",
     "output_type": "stream",
     "text": [
      "100%|██████████| 9912422/9912422 [00:00<00:00, 26728060.06it/s]\n"
     ]
    },
    {
     "name": "stdout",
     "output_type": "stream",
     "text": [
      "Extracting ./mnistdata/MNIST/raw/train-images-idx3-ubyte.gz to ./mnistdata/MNIST/raw\n",
      "\n",
      "Downloading http://yann.lecun.com/exdb/mnist/train-labels-idx1-ubyte.gz\n",
      "Failed to download (trying next):\n",
      "HTTP Error 403: Forbidden\n",
      "\n",
      "Downloading https://ossci-datasets.s3.amazonaws.com/mnist/train-labels-idx1-ubyte.gz\n",
      "Downloading https://ossci-datasets.s3.amazonaws.com/mnist/train-labels-idx1-ubyte.gz to ./mnistdata/MNIST/raw/train-labels-idx1-ubyte.gz\n"
     ]
    },
    {
     "name": "stderr",
     "output_type": "stream",
     "text": [
      "100%|██████████| 28881/28881 [00:00<00:00, 1685717.98it/s]\n"
     ]
    },
    {
     "name": "stdout",
     "output_type": "stream",
     "text": [
      "Extracting ./mnistdata/MNIST/raw/train-labels-idx1-ubyte.gz to ./mnistdata/MNIST/raw\n",
      "\n",
      "Downloading http://yann.lecun.com/exdb/mnist/t10k-images-idx3-ubyte.gz\n",
      "Failed to download (trying next):\n",
      "HTTP Error 403: Forbidden\n",
      "\n",
      "Downloading https://ossci-datasets.s3.amazonaws.com/mnist/t10k-images-idx3-ubyte.gz\n",
      "Downloading https://ossci-datasets.s3.amazonaws.com/mnist/t10k-images-idx3-ubyte.gz to ./mnistdata/MNIST/raw/t10k-images-idx3-ubyte.gz\n"
     ]
    },
    {
     "name": "stderr",
     "output_type": "stream",
     "text": [
      "100%|██████████| 1648877/1648877 [00:00<00:00, 10496371.74it/s]\n"
     ]
    },
    {
     "name": "stdout",
     "output_type": "stream",
     "text": [
      "Extracting ./mnistdata/MNIST/raw/t10k-images-idx3-ubyte.gz to ./mnistdata/MNIST/raw\n",
      "\n",
      "Downloading http://yann.lecun.com/exdb/mnist/t10k-labels-idx1-ubyte.gz\n",
      "Failed to download (trying next):\n",
      "HTTP Error 403: Forbidden\n",
      "\n",
      "Downloading https://ossci-datasets.s3.amazonaws.com/mnist/t10k-labels-idx1-ubyte.gz\n",
      "Downloading https://ossci-datasets.s3.amazonaws.com/mnist/t10k-labels-idx1-ubyte.gz to ./mnistdata/MNIST/raw/t10k-labels-idx1-ubyte.gz\n"
     ]
    },
    {
     "name": "stderr",
     "output_type": "stream",
     "text": [
      "100%|██████████| 4542/4542 [00:00<00:00, 3531799.92it/s]"
     ]
    },
    {
     "name": "stdout",
     "output_type": "stream",
     "text": [
      "Extracting ./mnistdata/MNIST/raw/t10k-labels-idx1-ubyte.gz to ./mnistdata/MNIST/raw\n",
      "\n",
      "1487 2024-05-14 19:24:50,024 | INFO | Creating the model.\n",
      "1487 2024-05-14 19:24:50,047 | INFO | Training the model.\n"
     ]
    },
    {
     "name": "stderr",
     "output_type": "stream",
     "text": [
      "\n"
     ]
    },
    {
     "name": "stdout",
     "output_type": "stream",
     "text": [
      "Epoch 1/2:\n",
      "Training: 100% |██████████| 1875/1875 [00:50<00:00, 36.80Batch/s, NLLLoss=0.11, accuracy=0.969]  \n",
      "Validating: 100% |██████████| 313/313 [00:02<00:00, 105.64Batch/s, NLLLoss=0.115, accuracy=1]     \n",
      "\n",
      "Summary:\n",
      "+----------+--------------------+\n",
      "| Metrics  |       Values       |\n",
      "+----------+--------------------+\n",
      "| NLLLoss  | 0.1542149782180786 |\n",
      "| accuracy |      0.96875       |\n",
      "+----------+--------------------+\n",
      "> 2024-05-14 19:25:44,322 [debug] log artifact training_NLLLoss.html at /home/jovyan/mnist-demo/artifacts/trainer-train-model/0/training_NLLLoss.html.html, size: 3764000, db: Y\n",
      "> 2024-05-14 19:25:44,389 [debug] log artifact training_accuracy.html at /home/jovyan/mnist-demo/artifacts/trainer-train-model/0/training_accuracy.html.html, size: 3740994, db: Y\n",
      "> 2024-05-14 19:25:44,433 [debug] log artifact validation_NLLLoss.html at /home/jovyan/mnist-demo/artifacts/trainer-train-model/0/validation_NLLLoss.html.html, size: 3726722, db: Y\n",
      "> 2024-05-14 19:25:44,476 [debug] log artifact validation_accuracy.html at /home/jovyan/mnist-demo/artifacts/trainer-train-model/0/validation_accuracy.html.html, size: 3722612, db: Y\n",
      "\n",
      "Epoch 2/2:\n",
      "Training: 100% |██████████| 1875/1875 [00:51<00:00, 36.13Batch/s, NLLLoss=0.288, accuracy=0.875] \n",
      "Validating: 100% |██████████| 313/313 [00:03<00:00, 104.30Batch/s, NLLLoss=0.0873, accuracy=0.938]\n",
      "\n",
      "Summary:\n",
      "+----------+---------------------+\n",
      "| Metrics  |       Values        |\n",
      "+----------+---------------------+\n",
      "| NLLLoss  | 0.11360865831375122 |\n",
      "| accuracy |       0.96875       |\n",
      "+----------+---------------------+\n",
      "> 2024-05-14 19:26:39,740 [debug] log artifact training_NLLLoss.html at /home/jovyan/mnist-demo/artifacts/trainer-train-model/0/training_NLLLoss.html.html, size: 3810676, db: Y\n",
      "> 2024-05-14 19:26:39,813 [debug] log artifact training_accuracy.html at /home/jovyan/mnist-demo/artifacts/trainer-train-model/0/training_accuracy.html.html, size: 3763236, db: Y\n",
      "> 2024-05-14 19:26:39,862 [debug] log artifact validation_NLLLoss.html at /home/jovyan/mnist-demo/artifacts/trainer-train-model/0/validation_NLLLoss.html.html, size: 3734380, db: Y\n",
      "> 2024-05-14 19:26:39,911 [debug] log artifact validation_accuracy.html at /home/jovyan/mnist-demo/artifacts/trainer-train-model/0/validation_accuracy.html.html, size: 3725976, db: Y\n",
      "\n",
      "> 2024-05-14 19:26:40,208 [debug] log artifact NLLLoss_summary.html at /home/jovyan/mnist-demo/artifacts/trainer-train-model/0/NLLLoss_summary.html.html, size: 3719538, db: Y\n",
      "> 2024-05-14 19:26:40,251 [debug] log artifact accuracy_summary.html at /home/jovyan/mnist-demo/artifacts/trainer-train-model/0/accuracy_summary.html.html, size: 3719490, db: Y\n",
      "> 2024-05-14 19:26:40,294 [debug] log artifact lr_values.html at /home/jovyan/mnist-demo/artifacts/trainer-train-model/0/lr_values.html.html, size: 3719369, db: Y\n",
      "> 2024-05-14 19:26:40,320 [debug] log artifact MNISTModel_custom_objects_map.json at /home/jovyan/mnist-demo/artifacts/trainer-train-model/0/MNISTModel_custom_objects_map.json.json, size: 42, db: N\n"
     ]
    }
   ],
   "source": [
    "# Run the function.\n",
    "trainer_run = project.run_function(\n",
    "    \"trainer\",\n",
    "    inputs={\"bucket_name\": \"mnist\", \"loader_type\": \"memory\"},\n",
    "    params={\"training_parameters\": training_parameters},\n",
    "    local=True\n",
    ")"
   ]
  },
  {
   "cell_type": "code",
   "execution_count": null,
   "id": "b64777c5",
   "metadata": {},
   "outputs": [],
   "source": [
    "import torch_utilities as tu\n",
    "\n",
    "train_loader, test_loader, _ = tu.create_memory_data_loaders(32)\n",
    "for images, labels in train_loader:\n",
    "    print(images.shape)\n",
    "    print(labels.shape)\n",
    "    bra"
   ]
  },
  {
   "cell_type": "code",
   "execution_count": null,
   "id": "b436425f-3c7d-4c9f-a34f-50c12972ba9f",
   "metadata": {},
   "outputs": [],
   "source": [
    "train_loader, test_loader, _ = tu.create_minio_data_loaders('mnist', 32)\n",
    "for images, labels in train_loader:\n",
    "    print(images.shape)\n",
    "    print(labels.shape)\n",
    "    bra"
   ]
  },
  {
   "cell_type": "code",
   "execution_count": null,
   "id": "846aff9b-e212-4b5f-971f-9f9c4532d731",
   "metadata": {},
   "outputs": [],
   "source": []
  }
 ],
 "metadata": {
  "kernelspec": {
   "display_name": "Python 3 (ipykernel)",
   "language": "python",
   "name": "python3"
  },
  "language_info": {
   "codemirror_mode": {
    "name": "ipython",
    "version": 3
   },
   "file_extension": ".py",
   "mimetype": "text/x-python",
   "name": "python",
   "nbconvert_exporter": "python",
   "pygments_lexer": "ipython3",
   "version": "3.9.13"
  }
 },
 "nbformat": 4,
 "nbformat_minor": 5
}
