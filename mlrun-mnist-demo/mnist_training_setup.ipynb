{
 "cells": [
  {
   "cell_type": "markdown",
   "id": "f65275c6-81a8-4156-8bf0-23525cf3750a",
   "metadata": {},
   "source": [
    "### Setup Environment"
   ]
  },
  {
   "cell_type": "code",
   "execution_count": 1,
   "id": "2670219e-67a0-409a-aab3-18e1828aa2ff",
   "metadata": {},
   "outputs": [],
   "source": [
    "import os\n",
    "os.environ[\"S3_ENDPOINT_URL\"]=\"minio:9000\"\n",
    "os.environ[\"AWS_ACCESS_KEY_ID\"]=\"lwycuW6S5f7yJZt65tRK\"\n",
    "os.environ[\"AWS_SECRET_ACCESS_KEY\"]=\"d6hXquiXGpbmfR8OdX7Byd716hmhN87xTyCX8S0K\"\n",
    "os.environ[\"MLRUN_DBPATH\"]=\"http://mlrun-api:8080\"\n",
    "import mlrun"
   ]
  },
  {
   "cell_type": "code",
   "execution_count": 2,
   "id": "ce7c5fc8-6d8f-4976-875f-8bc74578ed5c",
   "metadata": {},
   "outputs": [
    {
     "data": {
      "text/plain": [
       "('default', 's3://mlrun/projects/mnist-training/artifacts')"
      ]
     },
     "execution_count": 2,
     "metadata": {},
     "output_type": "execute_result"
    }
   ],
   "source": [
    "# Set the environment:\n",
    "project_name='mnist-training'\n",
    "mlrun.set_environment(env_file='mlrun.env', artifact_path=f's3://mlrun/projects/{project_name}/artifacts')\n",
    "#mlrun.set_environment('http://mlrun-api:8080', env_file='mlrun.env', artifact_path='s3://mlrun')"
   ]
  },
  {
   "cell_type": "markdown",
   "id": "ca628769-8f9e-434b-bfba-5805e7a5f145",
   "metadata": {},
   "source": [
    "### Create Project"
   ]
  },
  {
   "cell_type": "code",
   "execution_count": 3,
   "id": "f71439e4-4a13-46ed-b5f0-4e626a2288d8",
   "metadata": {},
   "outputs": [
    {
     "name": "stdout",
     "output_type": "stream",
     "text": [
      "> 2024-05-13 17:01:06,746 [info] Project loaded successfully: {'project_name': 'mnist-training'}\n",
      "/home/jovyan/mnist_demo\n"
     ]
    }
   ],
   "source": [
    "# Create the project:\n",
    "project_dir = os.path.abspath('./')\n",
    "project = mlrun.get_or_create_project(project_name, project_dir, user_project=False)\n",
    "print(project_dir)"
   ]
  },
  {
   "cell_type": "markdown",
   "id": "e50ce737-3e7c-42f5-9ad0-f8938d6d7286",
   "metadata": {},
   "source": [
    "### Create Training Function"
   ]
  },
  {
   "cell_type": "code",
   "execution_count": 4,
   "id": "61a209bc-68cf-4947-acec-e061904fca45",
   "metadata": {},
   "outputs": [
    {
     "name": "stdout",
     "output_type": "stream",
     "text": [
      "<class 'mlrun.runtimes.kubejob.KubejobRuntime'>\n"
     ]
    }
   ],
   "source": [
    "# Create the training function.\n",
    "trainer = project.set_function(\n",
    "    \"mnist_training_with_mlrun.py\", name=\"trainer\", kind=\"job\", \n",
    "    image=\"mlrun/mlrun\", \n",
    "    requirements=[\"minio\", \"torch\", \"torchvision\"],\n",
    "    handler=\"train_model\"\n",
    ")\n",
    "print(type(trainer))"
   ]
  },
  {
   "cell_type": "markdown",
   "id": "dedef915-4176-43e6-9fab-c1ee9059d3b7",
   "metadata": {},
   "source": [
    "### Run the function"
   ]
  },
  {
   "cell_type": "code",
   "execution_count": 5,
   "id": "6054a931-1e54-47fe-8dbe-fa0ebaa85fe0",
   "metadata": {},
   "outputs": [],
   "source": [
    "# Sample hyperparameters\n",
    "training_parameters = {\n",
    "    'batch_size': 32,\n",
    "    'device': 'cpu',\n",
    "    'dropout_input': 0.2,\n",
    "    'dropout_hidden': 0.5,\n",
    "    'epochs': 2,\n",
    "    'input_size': 784,\n",
    "    'hidden_sizes': [1024, 1024, 1024, 1024],\n",
    "    'lr': 0.025,\n",
    "    'momentum': 0.5,\n",
    "    'output_size': 10,\n",
    "    'smoke_test_size': -1\n",
    "    }"
   ]
  },
  {
   "cell_type": "code",
   "execution_count": 6,
   "id": "9ffc9146-bc8b-4558-a5ab-f47c39677d59",
   "metadata": {},
   "outputs": [
    {
     "name": "stdout",
     "output_type": "stream",
     "text": [
      "> 2024-05-13 17:01:06,780 [debug] Auto mount disabled due to user selection (auto_mount_type=none)\n",
      "> 2024-05-13 17:01:06,781 [debug] Auto mount disabled due to user selection (auto_mount_type=none)\n",
      "> 2024-05-13 17:01:06,791 [info] Storing function: {'name': 'trainer-train-model', 'uid': 'b7a98acb8e7a4fc7b785272af533172d', 'db': 'http://mlrun-api:8080'}\n",
      "> 2024-05-13 17:01:06,829 [debug] Starting local run: /home/jovyan/mnist_demo/mnist_training_with_mlrun.py # train_model\n",
      "> 2024-05-13 17:01:09,514 [debug] The packagers manager collected the packager: BoolPackager(packable_type=bool, artifact_types=['object', 'result'], priority=5)\n",
      "> 2024-05-13 17:01:09,516 [debug] The packagers manager collected the packager: BytearrayPackager(packable_type=bytearray, artifact_types=['file', 'object', 'result'], priority=5)\n",
      "> 2024-05-13 17:01:09,516 [debug] The packagers manager collected the packager: BytesPackager(packable_type=bytes, artifact_types=['file', 'object', 'result'], priority=5)\n",
      "> 2024-05-13 17:01:09,516 [debug] The packagers manager collected the packager: DictPackager(packable_type=dict, artifact_types=['file', 'object', 'result'], priority=5)\n",
      "> 2024-05-13 17:01:09,517 [debug] The packagers manager collected the packager: FloatPackager(packable_type=float, artifact_types=['object', 'result'], priority=5)\n",
      "> 2024-05-13 17:01:09,517 [debug] The packagers manager collected the packager: FrozensetPackager(packable_type=frozenset, artifact_types=['file', 'object', 'result'], priority=5)\n",
      "> 2024-05-13 17:01:09,518 [debug] The packagers manager collected the packager: IntPackager(packable_type=int, artifact_types=['object', 'result'], priority=5)\n",
      "> 2024-05-13 17:01:09,518 [debug] The packagers manager collected the packager: ListPackager(packable_type=list, artifact_types=['file', 'object', 'result'], priority=5)\n",
      "> 2024-05-13 17:01:09,518 [debug] The packagers manager collected the packager: NonePackager(packable_type=NoneType, artifact_types=['result'], priority=5)\n",
      "> 2024-05-13 17:01:09,519 [debug] The packagers manager collected the packager: PathPackager(packable_type=Path, artifact_types=['object', 'path', 'result'], priority=5)\n",
      "> 2024-05-13 17:01:09,519 [debug] The packagers manager collected the packager: SetPackager(packable_type=set, artifact_types=['file', 'object', 'result'], priority=5)\n",
      "> 2024-05-13 17:01:09,519 [debug] The packagers manager collected the packager: StrPackager(packable_type=str, artifact_types=['object', 'path', 'result'], priority=5)\n",
      "> 2024-05-13 17:01:09,520 [debug] The packagers manager collected the packager: TuplePackager(packable_type=tuple, artifact_types=['file', 'object', 'result'], priority=5)\n",
      "> 2024-05-13 17:01:09,522 [debug] The packagers manager collected the packager: PandasDataFramePackager(packable_type=DataFrame, artifact_types=['dataset', 'file', 'object', 'result'], priority=5)\n",
      "> 2024-05-13 17:01:09,523 [debug] The packagers manager collected the packager: PandasSeriesPackager(packable_type=Series, artifact_types=['file', 'object', 'result'], priority=5)\n",
      "> 2024-05-13 17:01:09,523 [debug] The packagers manager collected the packager: NumPyNDArrayDictPackager(packable_type=typing.Dict[str, numpy.ndarray], artifact_types=['file', 'object', 'result'], priority=5)\n",
      "> 2024-05-13 17:01:09,524 [debug] The packagers manager collected the packager: NumPyNDArrayListPackager(packable_type=typing.List[numpy.ndarray], artifact_types=['file', 'object', 'result'], priority=5)\n",
      "> 2024-05-13 17:01:09,524 [debug] The packagers manager collected the packager: NumPyNDArrayPackager(packable_type=ndarray, artifact_types=['dataset', 'file', 'object', 'result'], priority=5)\n",
      "> 2024-05-13 17:01:09,525 [debug] The packagers manager collected the packager: NumPyNumberPackager(packable_type=number, artifact_types=['object', 'result'], priority=5)\n",
      "> 2024-05-13 17:01:09,536 [debug] The packagers manager collected the packager: BoolPackager(packable_type=bool, artifact_types=['object', 'result'], priority=5)\n",
      "> 2024-05-13 17:01:09,537 [debug] The packagers manager collected the packager: BytearrayPackager(packable_type=bytearray, artifact_types=['file', 'object', 'result'], priority=5)\n",
      "> 2024-05-13 17:01:09,537 [debug] The packagers manager collected the packager: BytesPackager(packable_type=bytes, artifact_types=['file', 'object', 'result'], priority=5)\n",
      "> 2024-05-13 17:01:09,537 [debug] The packagers manager collected the packager: DictPackager(packable_type=dict, artifact_types=['file', 'object', 'result'], priority=5)\n",
      "> 2024-05-13 17:01:09,538 [debug] The packagers manager collected the packager: FloatPackager(packable_type=float, artifact_types=['object', 'result'], priority=5)\n",
      "> 2024-05-13 17:01:09,539 [debug] The packagers manager collected the packager: FrozensetPackager(packable_type=frozenset, artifact_types=['file', 'object', 'result'], priority=5)\n",
      "> 2024-05-13 17:01:09,539 [debug] The packagers manager collected the packager: IntPackager(packable_type=int, artifact_types=['object', 'result'], priority=5)\n",
      "> 2024-05-13 17:01:09,540 [debug] The packagers manager collected the packager: ListPackager(packable_type=list, artifact_types=['file', 'object', 'result'], priority=5)\n",
      "> 2024-05-13 17:01:09,541 [debug] The packagers manager collected the packager: NonePackager(packable_type=NoneType, artifact_types=['result'], priority=5)\n",
      "> 2024-05-13 17:01:09,541 [debug] The packagers manager collected the packager: PathPackager(packable_type=Path, artifact_types=['object', 'path', 'result'], priority=5)\n",
      "> 2024-05-13 17:01:09,542 [debug] The packagers manager collected the packager: SetPackager(packable_type=set, artifact_types=['file', 'object', 'result'], priority=5)\n",
      "> 2024-05-13 17:01:09,542 [debug] The packagers manager collected the packager: StrPackager(packable_type=str, artifact_types=['object', 'path', 'result'], priority=5)\n",
      "> 2024-05-13 17:01:09,542 [debug] The packagers manager collected the packager: TuplePackager(packable_type=tuple, artifact_types=['file', 'object', 'result'], priority=5)\n",
      "> 2024-05-13 17:01:09,543 [debug] The packagers manager collected the packager: PandasDataFramePackager(packable_type=DataFrame, artifact_types=['dataset', 'file', 'object', 'result'], priority=5)\n",
      "> 2024-05-13 17:01:09,544 [debug] The packagers manager collected the packager: PandasSeriesPackager(packable_type=Series, artifact_types=['file', 'object', 'result'], priority=5)\n",
      "> 2024-05-13 17:01:09,544 [debug] The packagers manager collected the packager: NumPyNDArrayDictPackager(packable_type=typing.Dict[str, numpy.ndarray], artifact_types=['file', 'object', 'result'], priority=5)\n",
      "> 2024-05-13 17:01:09,545 [debug] The packagers manager collected the packager: NumPyNDArrayListPackager(packable_type=typing.List[numpy.ndarray], artifact_types=['file', 'object', 'result'], priority=5)\n",
      "> 2024-05-13 17:01:09,546 [debug] The packagers manager collected the packager: NumPyNDArrayPackager(packable_type=ndarray, artifact_types=['dataset', 'file', 'object', 'result'], priority=5)\n",
      "> 2024-05-13 17:01:09,546 [debug] The packagers manager collected the packager: NumPyNumberPackager(packable_type=number, artifact_types=['object', 'result'], priority=5)\n",
      "64341 2024-05-13 17:01:09,547 | INFO | memory\n",
      "64341 2024-05-13 17:01:09,547 | INFO | mnist\n",
      "64341 2024-05-13 17:01:09,547 | INFO | {'batch_size': 32, 'device': 'cpu', 'dropout_input': 0.2, 'dropout_hidden': 0.5, 'epochs': 2, 'input_size': 784, 'hidden_sizes': [1024, 1024, 1024, 1024], 'lr': 0.025, 'momentum': 0.5, 'output_size': 10, 'smoke_test_size': -1}\n",
      "64341 2024-05-13 17:01:09,621 | INFO | Creating the model.\n",
      "64341 2024-05-13 17:01:09,651 | INFO | Training the model.\n",
      "> 2024-05-13 17:01:09,878 [error] Execution error, Traceback (most recent call last):\n",
      "  File \"/opt/conda/lib/python3.9/site-packages/mlrun/runtimes/local.py\", line 477, in exec_from_params\n",
      "    val = mlrun.handler(\n",
      "  File \"/opt/conda/lib/python3.9/site-packages/mlrun/package/__init__.py\", line 140, in wrapper\n",
      "    func_outputs = func(*args, **kwargs)\n",
      "  File \"/opt/conda/lib/python3.9/site-packages/mlrun/package/__init__.py\", line 140, in wrapper\n",
      "    func_outputs = func(*args, **kwargs)\n",
      "  File \"/home/jovyan/mnist_demo/mnist_training_with_mlrun.py\", line 40, in train_model\n",
      "    mlrun_torch.train(\n",
      "  File \"/opt/conda/lib/python3.9/site-packages/mlrun/frameworks/pytorch/__init__.py\", line 184, in train\n",
      "    interface.train(\n",
      "  File \"/opt/conda/lib/python3.9/site-packages/mlrun/frameworks/pytorch/mlrun_interface.py\", line 165, in train\n",
      "    self._setup()\n",
      "  File \"/opt/conda/lib/python3.9/site-packages/mlrun/frameworks/pytorch/mlrun_interface.py\", line 647, in _setup\n",
      "    self._callbacks_handler.on_setup(\n",
      "  File \"/opt/conda/lib/python3.9/site-packages/mlrun/frameworks/pytorch/callbacks_handler.py\", line 136, in on_setup\n",
      "    return self._run_callbacks(\n",
      "  File \"/opt/conda/lib/python3.9/site-packages/mlrun/frameworks/pytorch/callbacks_handler.py\", line 663, in _run_callbacks\n",
      "    result = method(*args, **kwargs)\n",
      "  File \"/opt/conda/lib/python3.9/site-packages/mlrun/frameworks/pytorch/callbacks/tensorboard_logging_callback.py\", line 410, in on_setup\n",
      "    self._logger.open()\n",
      "  File \"/opt/conda/lib/python3.9/site-packages/mlrun/frameworks/pytorch/callbacks/tensorboard_logging_callback.py\", line 116, in open\n",
      "    self._summary_writer = _MLRunSummaryWriter(log_dir=self._output_path)\n",
      "  File \"/opt/conda/lib/python3.9/site-packages/torch/utils/tensorboard/writer.py\", line 249, in __init__\n",
      "    self._get_file_writer()\n",
      "  File \"/opt/conda/lib/python3.9/site-packages/torch/utils/tensorboard/writer.py\", line 281, in _get_file_writer\n",
      "    self.file_writer = FileWriter(\n",
      "  File \"/opt/conda/lib/python3.9/site-packages/torch/utils/tensorboard/writer.py\", line 75, in __init__\n",
      "    self.event_writer = EventFileWriter(\n",
      "  File \"/opt/conda/lib/python3.9/site-packages/tensorboard/summary/writer/event_file_writer.py\", line 72, in __init__\n",
      "    tf.io.gfile.makedirs(logdir)\n",
      "  File \"/opt/conda/lib/python3.9/site-packages/tensorboard/compat/tensorflow_stub/io/gfile.py\", line 907, in makedirs\n",
      "    return get_filesystem(path).makedirs(path)\n",
      "  File \"/opt/conda/lib/python3.9/site-packages/tensorboard/compat/tensorflow_stub/io/gfile.py\", line 398, in makedirs\n",
      "    if not self.exists(dirname):\n",
      "  File \"/opt/conda/lib/python3.9/site-packages/tensorboard/compat/tensorflow_stub/io/gfile.py\", line 243, in exists\n",
      "    r = client.list_objects(Bucket=bucket, Prefix=path, Delimiter=\"/\")\n",
      "  File \"/opt/conda/lib/python3.9/site-packages/botocore/client.py\", line 535, in _api_call\n",
      "    return self._make_api_call(operation_name, kwargs)\n",
      "  File \"/opt/conda/lib/python3.9/site-packages/botocore/client.py\", line 980, in _make_api_call\n",
      "    raise error_class(parsed_response, operation_name)\n",
      "botocore.exceptions.ClientError: An error occurred (InvalidAccessKeyId) when calling the ListObjects operation: The AWS Access Key Id you provided does not exist in our records.\n",
      "\n",
      "> 2024-05-13 17:01:09,904 [error] Exec error - An error occurred (InvalidAccessKeyId) when calling the ListObjects operation: The AWS Access Key Id you provided does not exist in our records.\n",
      "> 2024-05-13 17:01:09,911 [debug] Run updates: {'name': 'trainer-train-model', 'uid': 'b7a98acb8e7a4fc7b785272af533172d', 'kind': 'local', 'last_state': 'error', 'updates': {'status.last_update': '2024-05-13T17:01:09.911085+00:00', 'status.state': 'error', 'status.error': 'An error occurred (InvalidAccessKeyId) when calling the ListObjects operation: The AWS Access Key Id you provided does not exist in our records.'}}\n",
      "> 2024-05-13 17:01:09,923 [debug] No notifications to push for run: {'run_uid': 'b7a98acb8e7a4fc7b785272af533172d'}\n"
     ]
    },
    {
     "name": "stderr",
     "output_type": "stream",
     "text": [
      "An error occurred (InvalidAccessKeyId) when calling the ListObjects operation: The AWS Access Key Id you provided does not exist in our records.\n"
     ]
    },
    {
     "data": {
      "text/html": [
       "<style>\n",
       ".dictlist {\n",
       "  background-color: #4EC64B;\n",
       "  text-align: center;\n",
       "  margin: 4px;\n",
       "  border-radius: 3px; padding: 0px 3px 1px 3px; display: inline-block;}\n",
       ".artifact {\n",
       "  cursor: pointer;\n",
       "  background-color: #4EC64B;\n",
       "  text-align: left;\n",
       "  margin: 4px; border-radius: 3px; padding: 0px 3px 1px 3px; display: inline-block;\n",
       "}\n",
       "div.block.hidden {\n",
       "  display: none;\n",
       "}\n",
       ".clickable {\n",
       "  cursor: pointer;\n",
       "}\n",
       ".ellipsis {\n",
       "  display: inline-block;\n",
       "  max-width: 60px;\n",
       "  white-space: nowrap;\n",
       "  overflow: hidden;\n",
       "  text-overflow: ellipsis;\n",
       "}\n",
       ".master-wrapper {\n",
       "  display: flex;\n",
       "  flex-flow: row nowrap;\n",
       "  justify-content: flex-start;\n",
       "  align-items: stretch;\n",
       "}\n",
       ".master-tbl {\n",
       "  flex: 3\n",
       "}\n",
       ".master-wrapper > div {\n",
       "  margin: 4px;\n",
       "  padding: 10px;\n",
       "}\n",
       "iframe.fileview {\n",
       "  border: 0 none;\n",
       "  height: 100%;\n",
       "  width: 100%;\n",
       "  white-space: pre-wrap;\n",
       "}\n",
       ".pane-header-title {\n",
       "  width: 80%;\n",
       "  font-weight: 500;\n",
       "}\n",
       ".pane-header {\n",
       "  line-height: 1;\n",
       "  background-color: #4EC64B;\n",
       "  padding: 3px;\n",
       "}\n",
       ".pane-header .close {\n",
       "  font-size: 20px;\n",
       "  font-weight: 700;\n",
       "  float: right;\n",
       "  margin-top: -5px;\n",
       "}\n",
       ".master-wrapper .right-pane {\n",
       "  border: 1px inset silver;\n",
       "  width: 40%;\n",
       "  min-height: 300px;\n",
       "  flex: 3\n",
       "  min-width: 500px;\n",
       "}\n",
       ".master-wrapper * {\n",
       "  box-sizing: border-box;\n",
       "}\n",
       "</style><script>\n",
       "function copyToClipboard(fld) {\n",
       "    if (document.queryCommandSupported && document.queryCommandSupported('copy')) {\n",
       "        var textarea = document.createElement('textarea');\n",
       "        textarea.textContent = fld.innerHTML;\n",
       "        textarea.style.position = 'fixed';\n",
       "        document.body.appendChild(textarea);\n",
       "        textarea.select();\n",
       "\n",
       "        try {\n",
       "            return document.execCommand('copy'); // Security exception may be thrown by some browsers.\n",
       "        } catch (ex) {\n",
       "\n",
       "        } finally {\n",
       "            document.body.removeChild(textarea);\n",
       "        }\n",
       "    }\n",
       "}\n",
       "function expandPanel(el) {\n",
       "  const panelName = \"#\" + el.getAttribute('paneName');\n",
       "  console.log(el.title);\n",
       "\n",
       "  document.querySelector(panelName + \"-title\").innerHTML = el.title\n",
       "  iframe = document.querySelector(panelName + \"-body\");\n",
       "\n",
       "  const tblcss = `<style> body { font-family: Arial, Helvetica, sans-serif;}\n",
       "    #csv { margin-bottom: 15px; }\n",
       "    #csv table { border-collapse: collapse;}\n",
       "    #csv table td { padding: 4px 8px; border: 1px solid silver;} </style>`;\n",
       "\n",
       "  function csvToHtmlTable(str) {\n",
       "    return '<div id=\"csv\"><table><tr><td>' +  str.replace(/[\\n\\r]+$/g, '').replace(/[\\n\\r]+/g, '</td></tr><tr><td>')\n",
       "      .replace(/,/g, '</td><td>') + '</td></tr></table></div>';\n",
       "  }\n",
       "\n",
       "  function reqListener () {\n",
       "    if (el.title.endsWith(\".csv\")) {\n",
       "      iframe.setAttribute(\"srcdoc\", tblcss + csvToHtmlTable(this.responseText));\n",
       "    } else {\n",
       "      iframe.setAttribute(\"srcdoc\", this.responseText);\n",
       "    }\n",
       "    console.log(this.responseText);\n",
       "  }\n",
       "\n",
       "  const oReq = new XMLHttpRequest();\n",
       "  oReq.addEventListener(\"load\", reqListener);\n",
       "  oReq.open(\"GET\", el.title);\n",
       "  oReq.send();\n",
       "\n",
       "\n",
       "  //iframe.src = el.title;\n",
       "  const resultPane = document.querySelector(panelName + \"-pane\");\n",
       "  if (resultPane.classList.contains(\"hidden\")) {\n",
       "    resultPane.classList.remove(\"hidden\");\n",
       "  }\n",
       "}\n",
       "function closePanel(el) {\n",
       "  const panelName = \"#\" + el.getAttribute('paneName')\n",
       "  const resultPane = document.querySelector(panelName + \"-pane\");\n",
       "  if (!resultPane.classList.contains(\"hidden\")) {\n",
       "    resultPane.classList.add(\"hidden\");\n",
       "  }\n",
       "}\n",
       "\n",
       "</script>\n",
       "<div class=\"master-wrapper\">\n",
       "  <div class=\"block master-tbl\"><div>\n",
       "<style scoped>\n",
       "    .dataframe tbody tr th:only-of-type {\n",
       "        vertical-align: middle;\n",
       "    }\n",
       "\n",
       "    .dataframe tbody tr th {\n",
       "        vertical-align: top;\n",
       "    }\n",
       "\n",
       "    .dataframe thead th {\n",
       "        text-align: right;\n",
       "    }\n",
       "</style>\n",
       "<table border=\"1\" class=\"dataframe\">\n",
       "  <thead>\n",
       "    <tr style=\"text-align: right;\">\n",
       "      <th>project</th>\n",
       "      <th>uid</th>\n",
       "      <th>iter</th>\n",
       "      <th>start</th>\n",
       "      <th>state</th>\n",
       "      <th>name</th>\n",
       "      <th>labels</th>\n",
       "      <th>inputs</th>\n",
       "      <th>parameters</th>\n",
       "      <th>results</th>\n",
       "      <th>artifacts</th>\n",
       "    </tr>\n",
       "  </thead>\n",
       "  <tbody>\n",
       "    <tr>\n",
       "      <td>mnist-training</td>\n",
       "      <td><div title=\"b7a98acb8e7a4fc7b785272af533172d\"><a href=\"http://localhost:8060/projects/mnist-training/jobs/monitor/b7a98acb8e7a4fc7b785272af533172d/overview\" target=\"_blank\" >...f533172d</a></div></td>\n",
       "      <td>0</td>\n",
       "      <td>May 13 17:01:06</td>\n",
       "      <td><div style=\"color: red;\" title=\"An error occurred (InvalidAccessKeyId) when calling the ListObjects operation: The AWS Access Key Id you provided does not exist in our records.\">error</div></td>\n",
       "      <td>trainer-train-model</td>\n",
       "      <td><div class=\"dictlist\">kind=local</div><div class=\"dictlist\">owner=jovyan</div><div class=\"dictlist\">host=e9436980ce9c</div></td>\n",
       "      <td><div title=\"/home/jovyan/mnist_demo/mnist\">bucket_name</div><div title=\"/home/jovyan/mnist_demo/memory\">loader_type</div></td>\n",
       "      <td><div class=\"dictlist\">training_parameters={'batch_size': 32, 'device': 'cpu', 'dropout_input': 0.2, 'dropout_hidden': 0.5, 'epochs': 2, 'input_size': 784, 'hidden_sizes': [1024, 1024, 1024, 1024], 'lr': 0.025, 'momentum': 0.5, 'output_size': 10, 'smoke_test_size': -1}</div></td>\n",
       "      <td></td>\n",
       "      <td></td>\n",
       "    </tr>\n",
       "  </tbody>\n",
       "</table>\n",
       "</div></div>\n",
       "  <div id=\"result67b79f04-pane\" class=\"right-pane block hidden\">\n",
       "    <div class=\"pane-header\">\n",
       "      <span id=\"result67b79f04-title\" class=\"pane-header-title\">Title</span>\n",
       "      <span onclick=\"closePanel(this)\" paneName=\"result67b79f04\" class=\"close clickable\">&times;</span>\n",
       "    </div>\n",
       "    <iframe class=\"fileview\" id=\"result67b79f04-body\"></iframe>\n",
       "  </div>\n",
       "</div>\n"
      ],
      "text/plain": [
       "<IPython.core.display.HTML object>"
      ]
     },
     "metadata": {},
     "output_type": "display_data"
    },
    {
     "name": "stdout",
     "output_type": "stream",
     "text": [
      "\n"
     ]
    },
    {
     "data": {
      "text/html": [
       "<b> > to track results use the .show() or .logs() methods  or <a href=\"http://localhost:8060/projects/mnist-training/jobs/monitor/b7a98acb8e7a4fc7b785272af533172d/overview\" target=\"_blank\">click here</a> to open in UI</b>"
      ],
      "text/plain": [
       "<IPython.core.display.HTML object>"
      ]
     },
     "metadata": {},
     "output_type": "display_data"
    },
    {
     "name": "stdout",
     "output_type": "stream",
     "text": [
      "> 2024-05-13 17:01:10,003 [info] Run execution finished: {'status': 'error', 'name': 'trainer-train-model'}\n"
     ]
    },
    {
     "ename": "RunError",
     "evalue": "An error occurred (InvalidAccessKeyId) when calling the ListObjects operation: The AWS Access Key Id you provided does not exist in our records.",
     "output_type": "error",
     "traceback": [
      "\u001b[0;31m---------------------------------------------------------------------------\u001b[0m",
      "\u001b[0;31mRunError\u001b[0m                                  Traceback (most recent call last)",
      "Cell \u001b[0;32mIn[6], line 2\u001b[0m\n\u001b[1;32m      1\u001b[0m \u001b[38;5;66;03m# Run the function.\u001b[39;00m\n\u001b[0;32m----> 2\u001b[0m trainer_run \u001b[38;5;241m=\u001b[39m \u001b[43mproject\u001b[49m\u001b[38;5;241;43m.\u001b[39;49m\u001b[43mrun_function\u001b[49m\u001b[43m(\u001b[49m\n\u001b[1;32m      3\u001b[0m \u001b[43m    \u001b[49m\u001b[38;5;124;43m\"\u001b[39;49m\u001b[38;5;124;43mtrainer\u001b[39;49m\u001b[38;5;124;43m\"\u001b[39;49m\u001b[43m,\u001b[49m\n\u001b[1;32m      4\u001b[0m \u001b[43m    \u001b[49m\u001b[43minputs\u001b[49m\u001b[38;5;241;43m=\u001b[39;49m\u001b[43m{\u001b[49m\u001b[38;5;124;43m\"\u001b[39;49m\u001b[38;5;124;43mbucket_name\u001b[39;49m\u001b[38;5;124;43m\"\u001b[39;49m\u001b[43m:\u001b[49m\u001b[43m \u001b[49m\u001b[38;5;124;43m\"\u001b[39;49m\u001b[38;5;124;43mmnist\u001b[39;49m\u001b[38;5;124;43m\"\u001b[39;49m\u001b[43m,\u001b[49m\u001b[43m \u001b[49m\u001b[38;5;124;43m\"\u001b[39;49m\u001b[38;5;124;43mloader_type\u001b[39;49m\u001b[38;5;124;43m\"\u001b[39;49m\u001b[43m:\u001b[49m\u001b[43m \u001b[49m\u001b[38;5;124;43m\"\u001b[39;49m\u001b[38;5;124;43mmemory\u001b[39;49m\u001b[38;5;124;43m\"\u001b[39;49m\u001b[43m}\u001b[49m\u001b[43m,\u001b[49m\n\u001b[1;32m      5\u001b[0m \u001b[43m    \u001b[49m\u001b[43mparams\u001b[49m\u001b[38;5;241;43m=\u001b[39;49m\u001b[43m{\u001b[49m\u001b[38;5;124;43m\"\u001b[39;49m\u001b[38;5;124;43mtraining_parameters\u001b[39;49m\u001b[38;5;124;43m\"\u001b[39;49m\u001b[43m:\u001b[49m\u001b[43m \u001b[49m\u001b[43mtraining_parameters\u001b[49m\u001b[43m}\u001b[49m\u001b[43m,\u001b[49m\n\u001b[1;32m      6\u001b[0m \u001b[43m    \u001b[49m\u001b[43mlocal\u001b[49m\u001b[38;5;241;43m=\u001b[39;49m\u001b[38;5;28;43;01mTrue\u001b[39;49;00m\n\u001b[1;32m      7\u001b[0m \u001b[43m)\u001b[49m\n",
      "File \u001b[0;32m/opt/conda/lib/python3.9/site-packages/mlrun/projects/project.py:2935\u001b[0m, in \u001b[0;36mMlrunProject.run_function\u001b[0;34m(self, function, handler, name, params, hyperparams, hyper_param_options, inputs, outputs, workdir, labels, base_task, watch, local, verbose, selector, auto_build, schedule, artifact_path, notifications, returns, builder_env)\u001b[0m\n\u001b[1;32m   2857\u001b[0m \u001b[38;5;28;01mdef\u001b[39;00m \u001b[38;5;21mrun_function\u001b[39m(\n\u001b[1;32m   2858\u001b[0m     \u001b[38;5;28mself\u001b[39m,\n\u001b[1;32m   2859\u001b[0m     function: typing\u001b[38;5;241m.\u001b[39mUnion[\u001b[38;5;28mstr\u001b[39m, mlrun\u001b[38;5;241m.\u001b[39mruntimes\u001b[38;5;241m.\u001b[39mBaseRuntime],\n\u001b[0;32m   (...)\u001b[0m\n\u001b[1;32m   2879\u001b[0m     builder_env: Optional[\u001b[38;5;28mdict\u001b[39m] \u001b[38;5;241m=\u001b[39m \u001b[38;5;28;01mNone\u001b[39;00m,\n\u001b[1;32m   2880\u001b[0m ) \u001b[38;5;241m-\u001b[39m\u001b[38;5;241m>\u001b[39m typing\u001b[38;5;241m.\u001b[39mUnion[mlrun\u001b[38;5;241m.\u001b[39mmodel\u001b[38;5;241m.\u001b[39mRunObject, kfp\u001b[38;5;241m.\u001b[39mdsl\u001b[38;5;241m.\u001b[39mContainerOp]:\n\u001b[1;32m   2881\u001b[0m \u001b[38;5;250m    \u001b[39m\u001b[38;5;124;03m\"\"\"Run a local or remote task as part of a local/kubeflow pipeline\u001b[39;00m\n\u001b[1;32m   2882\u001b[0m \n\u001b[1;32m   2883\u001b[0m \u001b[38;5;124;03m    example (use with project)::\u001b[39;00m\n\u001b[0;32m   (...)\u001b[0m\n\u001b[1;32m   2933\u001b[0m \u001b[38;5;124;03m    :return: MLRun RunObject or KubeFlow containerOp\u001b[39;00m\n\u001b[1;32m   2934\u001b[0m \u001b[38;5;124;03m    \"\"\"\u001b[39;00m\n\u001b[0;32m-> 2935\u001b[0m     \u001b[38;5;28;01mreturn\u001b[39;00m \u001b[43mrun_function\u001b[49m\u001b[43m(\u001b[49m\n\u001b[1;32m   2936\u001b[0m \u001b[43m        \u001b[49m\u001b[43mfunction\u001b[49m\u001b[43m,\u001b[49m\n\u001b[1;32m   2937\u001b[0m \u001b[43m        \u001b[49m\u001b[43mhandler\u001b[49m\u001b[38;5;241;43m=\u001b[39;49m\u001b[43mhandler\u001b[49m\u001b[43m,\u001b[49m\n\u001b[1;32m   2938\u001b[0m \u001b[43m        \u001b[49m\u001b[43mname\u001b[49m\u001b[38;5;241;43m=\u001b[39;49m\u001b[43mname\u001b[49m\u001b[43m,\u001b[49m\n\u001b[1;32m   2939\u001b[0m \u001b[43m        \u001b[49m\u001b[43mparams\u001b[49m\u001b[38;5;241;43m=\u001b[39;49m\u001b[43mparams\u001b[49m\u001b[43m,\u001b[49m\n\u001b[1;32m   2940\u001b[0m \u001b[43m        \u001b[49m\u001b[43mhyperparams\u001b[49m\u001b[38;5;241;43m=\u001b[39;49m\u001b[43mhyperparams\u001b[49m\u001b[43m,\u001b[49m\n\u001b[1;32m   2941\u001b[0m \u001b[43m        \u001b[49m\u001b[43mhyper_param_options\u001b[49m\u001b[38;5;241;43m=\u001b[39;49m\u001b[43mhyper_param_options\u001b[49m\u001b[43m,\u001b[49m\n\u001b[1;32m   2942\u001b[0m \u001b[43m        \u001b[49m\u001b[43minputs\u001b[49m\u001b[38;5;241;43m=\u001b[39;49m\u001b[43minputs\u001b[49m\u001b[43m,\u001b[49m\n\u001b[1;32m   2943\u001b[0m \u001b[43m        \u001b[49m\u001b[43moutputs\u001b[49m\u001b[38;5;241;43m=\u001b[39;49m\u001b[43moutputs\u001b[49m\u001b[43m,\u001b[49m\n\u001b[1;32m   2944\u001b[0m \u001b[43m        \u001b[49m\u001b[43mworkdir\u001b[49m\u001b[38;5;241;43m=\u001b[39;49m\u001b[43mworkdir\u001b[49m\u001b[43m,\u001b[49m\n\u001b[1;32m   2945\u001b[0m \u001b[43m        \u001b[49m\u001b[43mlabels\u001b[49m\u001b[38;5;241;43m=\u001b[39;49m\u001b[43mlabels\u001b[49m\u001b[43m,\u001b[49m\n\u001b[1;32m   2946\u001b[0m \u001b[43m        \u001b[49m\u001b[43mbase_task\u001b[49m\u001b[38;5;241;43m=\u001b[39;49m\u001b[43mbase_task\u001b[49m\u001b[43m,\u001b[49m\n\u001b[1;32m   2947\u001b[0m \u001b[43m        \u001b[49m\u001b[43mwatch\u001b[49m\u001b[38;5;241;43m=\u001b[39;49m\u001b[43mwatch\u001b[49m\u001b[43m,\u001b[49m\n\u001b[1;32m   2948\u001b[0m \u001b[43m        \u001b[49m\u001b[43mlocal\u001b[49m\u001b[38;5;241;43m=\u001b[39;49m\u001b[43mlocal\u001b[49m\u001b[43m,\u001b[49m\n\u001b[1;32m   2949\u001b[0m \u001b[43m        \u001b[49m\u001b[43mverbose\u001b[49m\u001b[38;5;241;43m=\u001b[39;49m\u001b[43mverbose\u001b[49m\u001b[43m,\u001b[49m\n\u001b[1;32m   2950\u001b[0m \u001b[43m        \u001b[49m\u001b[43mselector\u001b[49m\u001b[38;5;241;43m=\u001b[39;49m\u001b[43mselector\u001b[49m\u001b[43m,\u001b[49m\n\u001b[1;32m   2951\u001b[0m \u001b[43m        \u001b[49m\u001b[43mproject_object\u001b[49m\u001b[38;5;241;43m=\u001b[39;49m\u001b[38;5;28;43mself\u001b[39;49m\u001b[43m,\u001b[49m\n\u001b[1;32m   2952\u001b[0m \u001b[43m        \u001b[49m\u001b[43mauto_build\u001b[49m\u001b[38;5;241;43m=\u001b[39;49m\u001b[43mauto_build\u001b[49m\u001b[43m,\u001b[49m\n\u001b[1;32m   2953\u001b[0m \u001b[43m        \u001b[49m\u001b[43mschedule\u001b[49m\u001b[38;5;241;43m=\u001b[39;49m\u001b[43mschedule\u001b[49m\u001b[43m,\u001b[49m\n\u001b[1;32m   2954\u001b[0m \u001b[43m        \u001b[49m\u001b[43martifact_path\u001b[49m\u001b[38;5;241;43m=\u001b[39;49m\u001b[43martifact_path\u001b[49m\u001b[43m,\u001b[49m\n\u001b[1;32m   2955\u001b[0m \u001b[43m        \u001b[49m\u001b[43mnotifications\u001b[49m\u001b[38;5;241;43m=\u001b[39;49m\u001b[43mnotifications\u001b[49m\u001b[43m,\u001b[49m\n\u001b[1;32m   2956\u001b[0m \u001b[43m        \u001b[49m\u001b[43mreturns\u001b[49m\u001b[38;5;241;43m=\u001b[39;49m\u001b[43mreturns\u001b[49m\u001b[43m,\u001b[49m\n\u001b[1;32m   2957\u001b[0m \u001b[43m        \u001b[49m\u001b[43mbuilder_env\u001b[49m\u001b[38;5;241;43m=\u001b[39;49m\u001b[43mbuilder_env\u001b[49m\u001b[43m,\u001b[49m\n\u001b[1;32m   2958\u001b[0m \u001b[43m    \u001b[49m\u001b[43m)\u001b[49m\n",
      "File \u001b[0;32m/opt/conda/lib/python3.9/site-packages/mlrun/projects/operations.py:192\u001b[0m, in \u001b[0;36mrun_function\u001b[0;34m(function, handler, name, params, hyperparams, hyper_param_options, inputs, outputs, workdir, labels, base_task, watch, local, verbose, selector, project_object, auto_build, schedule, artifact_path, notifications, returns, builder_env)\u001b[0m\n\u001b[1;32m    190\u001b[0m \u001b[38;5;28;01mif\u001b[39;00m local \u001b[38;5;129;01mand\u001b[39;00m project \u001b[38;5;129;01mand\u001b[39;00m function\u001b[38;5;241m.\u001b[39mspec\u001b[38;5;241m.\u001b[39mbuild\u001b[38;5;241m.\u001b[39msource:\n\u001b[1;32m    191\u001b[0m     workdir \u001b[38;5;241m=\u001b[39m workdir \u001b[38;5;129;01mor\u001b[39;00m project\u001b[38;5;241m.\u001b[39mspec\u001b[38;5;241m.\u001b[39mget_code_path()\n\u001b[0;32m--> 192\u001b[0m run_result \u001b[38;5;241m=\u001b[39m \u001b[43mfunction\u001b[49m\u001b[38;5;241;43m.\u001b[39;49m\u001b[43mrun\u001b[49m\u001b[43m(\u001b[49m\n\u001b[1;32m    193\u001b[0m \u001b[43m    \u001b[49m\u001b[43mname\u001b[49m\u001b[38;5;241;43m=\u001b[39;49m\u001b[43mname\u001b[49m\u001b[43m,\u001b[49m\n\u001b[1;32m    194\u001b[0m \u001b[43m    \u001b[49m\u001b[43mrunspec\u001b[49m\u001b[38;5;241;43m=\u001b[39;49m\u001b[43mtask\u001b[49m\u001b[43m,\u001b[49m\n\u001b[1;32m    195\u001b[0m \u001b[43m    \u001b[49m\u001b[43mworkdir\u001b[49m\u001b[38;5;241;43m=\u001b[39;49m\u001b[43mworkdir\u001b[49m\u001b[43m,\u001b[49m\n\u001b[1;32m    196\u001b[0m \u001b[43m    \u001b[49m\u001b[43mverbose\u001b[49m\u001b[38;5;241;43m=\u001b[39;49m\u001b[43mverbose\u001b[49m\u001b[43m,\u001b[49m\n\u001b[1;32m    197\u001b[0m \u001b[43m    \u001b[49m\u001b[43mwatch\u001b[49m\u001b[38;5;241;43m=\u001b[39;49m\u001b[43mwatch\u001b[49m\u001b[43m,\u001b[49m\n\u001b[1;32m    198\u001b[0m \u001b[43m    \u001b[49m\u001b[43mlocal\u001b[49m\u001b[38;5;241;43m=\u001b[39;49m\u001b[43mlocal\u001b[49m\u001b[43m,\u001b[49m\n\u001b[1;32m    199\u001b[0m \u001b[43m    \u001b[49m\u001b[43martifact_path\u001b[49m\u001b[38;5;241;43m=\u001b[39;49m\u001b[43martifact_path\u001b[49m\n\u001b[1;32m    200\u001b[0m \u001b[43m    \u001b[49m\u001b[38;5;66;43;03m# workflow artifact_path has precedence over the project artifact_path equivalent to\u001b[39;49;00m\n\u001b[1;32m    201\u001b[0m \u001b[43m    \u001b[49m\u001b[38;5;66;43;03m# passing artifact_path to function.run() has precedence over the project.artifact_path and the default one\u001b[39;49;00m\n\u001b[1;32m    202\u001b[0m \u001b[43m    \u001b[49m\u001b[38;5;129;43;01mor\u001b[39;49;00m\u001b[43m \u001b[49m\u001b[43mpipeline_context\u001b[49m\u001b[38;5;241;43m.\u001b[39;49m\u001b[43mworkflow_artifact_path\u001b[49m\n\u001b[1;32m    203\u001b[0m \u001b[43m    \u001b[49m\u001b[38;5;129;43;01mor\u001b[39;49;00m\u001b[43m \u001b[49m\u001b[43m(\u001b[49m\u001b[43mproject\u001b[49m\u001b[38;5;241;43m.\u001b[39;49m\u001b[43martifact_path\u001b[49m\u001b[43m \u001b[49m\u001b[38;5;28;43;01mif\u001b[39;49;00m\u001b[43m \u001b[49m\u001b[43mproject\u001b[49m\u001b[43m \u001b[49m\u001b[38;5;28;43;01melse\u001b[39;49;00m\u001b[43m \u001b[49m\u001b[38;5;28;43;01mNone\u001b[39;49;00m\u001b[43m)\u001b[49m\u001b[43m,\u001b[49m\n\u001b[1;32m    204\u001b[0m \u001b[43m    \u001b[49m\u001b[43mauto_build\u001b[49m\u001b[38;5;241;43m=\u001b[39;49m\u001b[43mauto_build\u001b[49m\u001b[43m,\u001b[49m\n\u001b[1;32m    205\u001b[0m \u001b[43m    \u001b[49m\u001b[43mschedule\u001b[49m\u001b[38;5;241;43m=\u001b[39;49m\u001b[43mschedule\u001b[49m\u001b[43m,\u001b[49m\n\u001b[1;32m    206\u001b[0m \u001b[43m    \u001b[49m\u001b[43mnotifications\u001b[49m\u001b[38;5;241;43m=\u001b[39;49m\u001b[43mnotifications\u001b[49m\u001b[43m,\u001b[49m\n\u001b[1;32m    207\u001b[0m \u001b[43m    \u001b[49m\u001b[43mbuilder_env\u001b[49m\u001b[38;5;241;43m=\u001b[39;49m\u001b[43mbuilder_env\u001b[49m\u001b[43m,\u001b[49m\n\u001b[1;32m    208\u001b[0m \u001b[43m\u001b[49m\u001b[43m)\u001b[49m\n\u001b[1;32m    209\u001b[0m \u001b[38;5;28;01mif\u001b[39;00m run_result:\n\u001b[1;32m    210\u001b[0m     run_result\u001b[38;5;241m.\u001b[39m_notified \u001b[38;5;241m=\u001b[39m \u001b[38;5;28;01mFalse\u001b[39;00m\n",
      "File \u001b[0;32m/opt/conda/lib/python3.9/site-packages/mlrun/runtimes/base.py:369\u001b[0m, in \u001b[0;36mBaseRuntime.run\u001b[0;34m(self, runspec, handler, name, project, params, inputs, out_path, workdir, artifact_path, watch, schedule, hyperparams, hyper_param_options, verbose, scrape_metrics, local, local_code_path, auto_build, param_file_secrets, notifications, returns, state_thresholds, **launcher_kwargs)\u001b[0m\n\u001b[1;32m    312\u001b[0m \u001b[38;5;250m\u001b[39m\u001b[38;5;124;03m\"\"\"\u001b[39;00m\n\u001b[1;32m    313\u001b[0m \u001b[38;5;124;03mRun a local or remote task.\u001b[39;00m\n\u001b[1;32m    314\u001b[0m \n\u001b[0;32m   (...)\u001b[0m\n\u001b[1;32m    364\u001b[0m \u001b[38;5;124;03m:return: Run context object (RunObject) with run metadata, results and status\u001b[39;00m\n\u001b[1;32m    365\u001b[0m \u001b[38;5;124;03m\"\"\"\u001b[39;00m\n\u001b[1;32m    366\u001b[0m launcher \u001b[38;5;241m=\u001b[39m mlrun\u001b[38;5;241m.\u001b[39mlauncher\u001b[38;5;241m.\u001b[39mfactory\u001b[38;5;241m.\u001b[39mLauncherFactory()\u001b[38;5;241m.\u001b[39mcreate_launcher(\n\u001b[1;32m    367\u001b[0m     \u001b[38;5;28mself\u001b[39m\u001b[38;5;241m.\u001b[39m_is_remote, local\u001b[38;5;241m=\u001b[39mlocal, \u001b[38;5;241m*\u001b[39m\u001b[38;5;241m*\u001b[39mlauncher_kwargs\n\u001b[1;32m    368\u001b[0m )\n\u001b[0;32m--> 369\u001b[0m \u001b[38;5;28;01mreturn\u001b[39;00m \u001b[43mlauncher\u001b[49m\u001b[38;5;241;43m.\u001b[39;49m\u001b[43mlaunch\u001b[49m\u001b[43m(\u001b[49m\n\u001b[1;32m    370\u001b[0m \u001b[43m    \u001b[49m\u001b[43mruntime\u001b[49m\u001b[38;5;241;43m=\u001b[39;49m\u001b[38;5;28;43mself\u001b[39;49m\u001b[43m,\u001b[49m\n\u001b[1;32m    371\u001b[0m \u001b[43m    \u001b[49m\u001b[43mtask\u001b[49m\u001b[38;5;241;43m=\u001b[39;49m\u001b[43mrunspec\u001b[49m\u001b[43m,\u001b[49m\n\u001b[1;32m    372\u001b[0m \u001b[43m    \u001b[49m\u001b[43mhandler\u001b[49m\u001b[38;5;241;43m=\u001b[39;49m\u001b[43mhandler\u001b[49m\u001b[43m,\u001b[49m\n\u001b[1;32m    373\u001b[0m \u001b[43m    \u001b[49m\u001b[43mname\u001b[49m\u001b[38;5;241;43m=\u001b[39;49m\u001b[43mname\u001b[49m\u001b[43m,\u001b[49m\n\u001b[1;32m    374\u001b[0m \u001b[43m    \u001b[49m\u001b[43mproject\u001b[49m\u001b[38;5;241;43m=\u001b[39;49m\u001b[43mproject\u001b[49m\u001b[43m,\u001b[49m\n\u001b[1;32m    375\u001b[0m \u001b[43m    \u001b[49m\u001b[43mparams\u001b[49m\u001b[38;5;241;43m=\u001b[39;49m\u001b[43mparams\u001b[49m\u001b[43m,\u001b[49m\n\u001b[1;32m    376\u001b[0m \u001b[43m    \u001b[49m\u001b[43minputs\u001b[49m\u001b[38;5;241;43m=\u001b[39;49m\u001b[43minputs\u001b[49m\u001b[43m,\u001b[49m\n\u001b[1;32m    377\u001b[0m \u001b[43m    \u001b[49m\u001b[43mout_path\u001b[49m\u001b[38;5;241;43m=\u001b[39;49m\u001b[43mout_path\u001b[49m\u001b[43m,\u001b[49m\n\u001b[1;32m    378\u001b[0m \u001b[43m    \u001b[49m\u001b[43mworkdir\u001b[49m\u001b[38;5;241;43m=\u001b[39;49m\u001b[43mworkdir\u001b[49m\u001b[43m,\u001b[49m\n\u001b[1;32m    379\u001b[0m \u001b[43m    \u001b[49m\u001b[43martifact_path\u001b[49m\u001b[38;5;241;43m=\u001b[39;49m\u001b[43martifact_path\u001b[49m\u001b[43m,\u001b[49m\n\u001b[1;32m    380\u001b[0m \u001b[43m    \u001b[49m\u001b[43mwatch\u001b[49m\u001b[38;5;241;43m=\u001b[39;49m\u001b[43mwatch\u001b[49m\u001b[43m,\u001b[49m\n\u001b[1;32m    381\u001b[0m \u001b[43m    \u001b[49m\u001b[43mschedule\u001b[49m\u001b[38;5;241;43m=\u001b[39;49m\u001b[43mschedule\u001b[49m\u001b[43m,\u001b[49m\n\u001b[1;32m    382\u001b[0m \u001b[43m    \u001b[49m\u001b[43mhyperparams\u001b[49m\u001b[38;5;241;43m=\u001b[39;49m\u001b[43mhyperparams\u001b[49m\u001b[43m,\u001b[49m\n\u001b[1;32m    383\u001b[0m \u001b[43m    \u001b[49m\u001b[43mhyper_param_options\u001b[49m\u001b[38;5;241;43m=\u001b[39;49m\u001b[43mhyper_param_options\u001b[49m\u001b[43m,\u001b[49m\n\u001b[1;32m    384\u001b[0m \u001b[43m    \u001b[49m\u001b[43mverbose\u001b[49m\u001b[38;5;241;43m=\u001b[39;49m\u001b[43mverbose\u001b[49m\u001b[43m,\u001b[49m\n\u001b[1;32m    385\u001b[0m \u001b[43m    \u001b[49m\u001b[43mscrape_metrics\u001b[49m\u001b[38;5;241;43m=\u001b[39;49m\u001b[43mscrape_metrics\u001b[49m\u001b[43m,\u001b[49m\n\u001b[1;32m    386\u001b[0m \u001b[43m    \u001b[49m\u001b[43mlocal_code_path\u001b[49m\u001b[38;5;241;43m=\u001b[39;49m\u001b[43mlocal_code_path\u001b[49m\u001b[43m,\u001b[49m\n\u001b[1;32m    387\u001b[0m \u001b[43m    \u001b[49m\u001b[43mauto_build\u001b[49m\u001b[38;5;241;43m=\u001b[39;49m\u001b[43mauto_build\u001b[49m\u001b[43m,\u001b[49m\n\u001b[1;32m    388\u001b[0m \u001b[43m    \u001b[49m\u001b[43mparam_file_secrets\u001b[49m\u001b[38;5;241;43m=\u001b[39;49m\u001b[43mparam_file_secrets\u001b[49m\u001b[43m,\u001b[49m\n\u001b[1;32m    389\u001b[0m \u001b[43m    \u001b[49m\u001b[43mnotifications\u001b[49m\u001b[38;5;241;43m=\u001b[39;49m\u001b[43mnotifications\u001b[49m\u001b[43m,\u001b[49m\n\u001b[1;32m    390\u001b[0m \u001b[43m    \u001b[49m\u001b[43mreturns\u001b[49m\u001b[38;5;241;43m=\u001b[39;49m\u001b[43mreturns\u001b[49m\u001b[43m,\u001b[49m\n\u001b[1;32m    391\u001b[0m \u001b[43m    \u001b[49m\u001b[43mstate_thresholds\u001b[49m\u001b[38;5;241;43m=\u001b[39;49m\u001b[43mstate_thresholds\u001b[49m\u001b[43m,\u001b[49m\n\u001b[1;32m    392\u001b[0m \u001b[43m\u001b[49m\u001b[43m)\u001b[49m\n",
      "File \u001b[0;32m/opt/conda/lib/python3.9/site-packages/mlrun/launcher/local.py:123\u001b[0m, in \u001b[0;36mClientLocalLauncher.launch\u001b[0;34m(self, runtime, task, handler, name, project, params, inputs, out_path, workdir, artifact_path, watch, schedule, hyperparams, hyper_param_options, verbose, scrape_metrics, local_code_path, auto_build, param_file_secrets, notifications, returns, state_thresholds)\u001b[0m\n\u001b[1;32m    103\u001b[0m run \u001b[38;5;241m=\u001b[39m \u001b[38;5;28mself\u001b[39m\u001b[38;5;241m.\u001b[39m_enrich_run(\n\u001b[1;32m    104\u001b[0m     runtime\u001b[38;5;241m=\u001b[39mruntime,\n\u001b[1;32m    105\u001b[0m     run\u001b[38;5;241m=\u001b[39mrun,\n\u001b[0;32m   (...)\u001b[0m\n\u001b[1;32m    120\u001b[0m     state_thresholds\u001b[38;5;241m=\u001b[39mstate_thresholds,\n\u001b[1;32m    121\u001b[0m )\n\u001b[1;32m    122\u001b[0m \u001b[38;5;28mself\u001b[39m\u001b[38;5;241m.\u001b[39m_validate_runtime(runtime, run)\n\u001b[0;32m--> 123\u001b[0m result \u001b[38;5;241m=\u001b[39m \u001b[38;5;28;43mself\u001b[39;49m\u001b[38;5;241;43m.\u001b[39;49m\u001b[43m_execute\u001b[49m\u001b[43m(\u001b[49m\n\u001b[1;32m    124\u001b[0m \u001b[43m    \u001b[49m\u001b[43mruntime\u001b[49m\u001b[38;5;241;43m=\u001b[39;49m\u001b[43mruntime\u001b[49m\u001b[43m,\u001b[49m\n\u001b[1;32m    125\u001b[0m \u001b[43m    \u001b[49m\u001b[43mrun\u001b[49m\u001b[38;5;241;43m=\u001b[39;49m\u001b[43mrun\u001b[49m\u001b[43m,\u001b[49m\n\u001b[1;32m    126\u001b[0m \u001b[43m\u001b[49m\u001b[43m)\u001b[49m\n\u001b[1;32m    128\u001b[0m \u001b[38;5;28;01mreturn\u001b[39;00m result\n",
      "File \u001b[0;32m/opt/conda/lib/python3.9/site-packages/mlrun/launcher/local.py:198\u001b[0m, in \u001b[0;36mClientLocalLauncher._execute\u001b[0;34m(self, runtime, run)\u001b[0m\n\u001b[1;32m    195\u001b[0m \u001b[38;5;66;03m# run post run hooks\u001b[39;00m\n\u001b[1;32m    196\u001b[0m runtime\u001b[38;5;241m.\u001b[39m_post_run(result, execution)  \u001b[38;5;66;03m# hook for runtime specific cleanup\u001b[39;00m\n\u001b[0;32m--> 198\u001b[0m \u001b[38;5;28;01mreturn\u001b[39;00m \u001b[38;5;28;43mself\u001b[39;49m\u001b[38;5;241;43m.\u001b[39;49m\u001b[43m_wrap_run_result\u001b[49m\u001b[43m(\u001b[49m\u001b[43mruntime\u001b[49m\u001b[43m,\u001b[49m\u001b[43m \u001b[49m\u001b[43mresult\u001b[49m\u001b[43m,\u001b[49m\u001b[43m \u001b[49m\u001b[43mrun\u001b[49m\u001b[43m,\u001b[49m\u001b[43m \u001b[49m\u001b[43merr\u001b[49m\u001b[38;5;241;43m=\u001b[39;49m\u001b[43mlast_err\u001b[49m\u001b[43m)\u001b[49m\n",
      "File \u001b[0;32m/opt/conda/lib/python3.9/site-packages/mlrun/launcher/base.py:414\u001b[0m, in \u001b[0;36mBaseLauncher._wrap_run_result\u001b[0;34m(self, runtime, result, run, schedule, err)\u001b[0m\n\u001b[1;32m    408\u001b[0m         \u001b[38;5;28;01mif\u001b[39;00m runtime\u001b[38;5;241m.\u001b[39m_is_remote \u001b[38;5;129;01mand\u001b[39;00m \u001b[38;5;129;01mnot\u001b[39;00m runtime\u001b[38;5;241m.\u001b[39mis_child:\n\u001b[1;32m    409\u001b[0m             logger\u001b[38;5;241m.\u001b[39merror(\n\u001b[1;32m    410\u001b[0m                 \u001b[38;5;124m\"\u001b[39m\u001b[38;5;124mRun did not finish successfully\u001b[39m\u001b[38;5;124m\"\u001b[39m,\n\u001b[1;32m    411\u001b[0m                 state\u001b[38;5;241m=\u001b[39mrun\u001b[38;5;241m.\u001b[39mstatus\u001b[38;5;241m.\u001b[39mstate,\n\u001b[1;32m    412\u001b[0m                 status\u001b[38;5;241m=\u001b[39mrun\u001b[38;5;241m.\u001b[39mstatus\u001b[38;5;241m.\u001b[39mto_dict(),\n\u001b[1;32m    413\u001b[0m             )\n\u001b[0;32m--> 414\u001b[0m         \u001b[38;5;28;01mraise\u001b[39;00m mlrun\u001b[38;5;241m.\u001b[39mruntimes\u001b[38;5;241m.\u001b[39mutils\u001b[38;5;241m.\u001b[39mRunError(run\u001b[38;5;241m.\u001b[39merror)\n\u001b[1;32m    415\u001b[0m     \u001b[38;5;28;01mreturn\u001b[39;00m run\n\u001b[1;32m    417\u001b[0m \u001b[38;5;28;01mreturn\u001b[39;00m \u001b[38;5;28;01mNone\u001b[39;00m\n",
      "\u001b[0;31mRunError\u001b[0m: An error occurred (InvalidAccessKeyId) when calling the ListObjects operation: The AWS Access Key Id you provided does not exist in our records."
     ]
    }
   ],
   "source": [
    "# Run the function.\n",
    "trainer_run = project.run_function(\n",
    "    \"trainer\",\n",
    "    inputs={\"bucket_name\": \"mnist\", \"loader_type\": \"memory\"},\n",
    "    params={\"training_parameters\": training_parameters},\n",
    "    local=True\n",
    ")"
   ]
  },
  {
   "cell_type": "code",
   "execution_count": null,
   "id": "b64777c5",
   "metadata": {},
   "outputs": [],
   "source": []
  }
 ],
 "metadata": {
  "kernelspec": {
   "display_name": "Python 3 (ipykernel)",
   "language": "python",
   "name": "python3"
  },
  "language_info": {
   "codemirror_mode": {
    "name": "ipython",
    "version": 3
   },
   "file_extension": ".py",
   "mimetype": "text/x-python",
   "name": "python",
   "nbconvert_exporter": "python",
   "pygments_lexer": "ipython3",
   "version": "3.9.13"
  }
 },
 "nbformat": 4,
 "nbformat_minor": 5
}
